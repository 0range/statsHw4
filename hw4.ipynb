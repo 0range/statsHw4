{
 "cells": [
  {
   "cell_type": "code",
   "execution_count": 1,
   "metadata": {
    "collapsed": true
   },
   "outputs": [],
   "source": [
    "import numpy as np\n",
    "import matplotlib.pyplot as plt\n",
    "from time import time\n",
    "%matplotlib inline"
   ]
  },
  {
   "cell_type": "markdown",
   "metadata": {},
   "source": [
    "##Problem 4"
   ]
  },
  {
   "cell_type": "code",
   "execution_count": 72,
   "metadata": {
    "collapsed": false
   },
   "outputs": [],
   "source": [
    "data = np.loadtxt('concrete.txt')\n",
    "\"\"\"Cement (component 1) -- quantitative -- kg in a m3 mixture -- Input Variable\n",
    "Blast Furnace Slag (component 2) -- quantitative -- kg in a m3 mixture -- Input Variable\n",
    "Fly Ash (component 3) -- quantitative -- kg in a m3 mixture -- Input Variable\n",
    "Water (component 4) -- quantitative -- kg in a m3 mixture -- Input Variable\n",
    "Superplasticizer (component 5) -- quantitative -- kg in a m3 mixture -- Input Variable\n",
    "Coarse Aggregate (component 6) -- quantitative -- kg in a m3 mixture -- Input Variable\n",
    "Fine Aggregate (component 7) -- quantitative -- kg in a m3 mixture -- Input Variable\n",
    "Age -- quantitative -- Day (1~365) -- Input Variable\n",
    "Concrete compressive strength -- quantitative -- MPa -- Output Variable \"\"\"\n",
    "np.random.shuffle(data)\n",
    "train_data = data[ : data.shape[0] * 3 / 4]\n",
    "test_data = data[data.shape[0] * 3 / 4 : ]"
   ]
  },
  {
   "cell_type": "code",
   "execution_count": 135,
   "metadata": {
    "collapsed": false
   },
   "outputs": [],
   "source": [
    "from pybrain.tools.shortcuts import buildNetwork\n",
    "from pybrain.datasets.supervised import SupervisedDataSet\n",
    "from pybrain.supervised.trainers import BackpropTrainer, RPropMinusTrainer\n",
    "from pybrain.structure import FeedForwardNetwork\n",
    "from pybrain.structure import LinearLayer, SigmoidLayer\n",
    "from pybrain.structure import FullConnection\n",
    "from pybrain.utilities           import percentError"
   ]
  },
  {
   "cell_type": "code",
   "execution_count": null,
   "metadata": {
    "collapsed": false
   },
   "outputs": [],
   "source": [
    "eps = 0.0001\n",
    "p = 10\n",
    "ps = [1,2,3,4,5,6,7,8,9,10,11,12,13,14,15,16,17,18,19,20]\n",
    "train_errs = []\n",
    "test_errs = []\n",
    "\n",
    "ds = SupervisedDataSet(8, 1)\n",
    "for el in train_data:\n",
    "    ds.addSample(el[:8], np.array([el[8],]))\n",
    "test_ds = SupervisedDataSet(8, 1)\n",
    "for el in test_data:\n",
    "    test_ds.addSample(el[:8], np.array([el[8],]))\n",
    "\n",
    "thetime = time()\n",
    "for p in ps:\n",
    "    net = buildNetwork(8, p, 1, bias=False)\n",
    "\n",
    "    trainer = RPropMinusTrainer(net, dataset=ds, verbose=False)\n",
    "    err = trainer.train()\n",
    "    diff = eps + 1\n",
    "    while diff > eps:\n",
    "        newErr = trainer.train()\n",
    "        diff = np.abs(err - newErr)\n",
    "        err =  newErr\n",
    "        \n",
    "    print p, trainer.totalepochs, err, time() - thetime\n",
    "    thetime = time()\n",
    "    train_errs.append(np.mean(np.abs(net.activateOnDataset(ds) - ds['target'])))\n",
    "    test_errs.append(np.mean(np.abs(net.activateOnDataset(test_ds) - test_ds['target'])))"
   ]
  },
  {
   "cell_type": "code",
   "execution_count": null,
   "metadata": {
    "collapsed": true
   },
   "outputs": [],
   "source": []
  }
 ],
 "metadata": {
  "kernelspec": {
   "display_name": "Python 2",
   "language": "python",
   "name": "python2"
  },
  "language_info": {
   "codemirror_mode": {
    "name": "ipython",
    "version": 2
   },
   "file_extension": ".py",
   "mimetype": "text/x-python",
   "name": "python",
   "nbconvert_exporter": "python",
   "pygments_lexer": "ipython2",
   "version": "2.7.3"
  }
 },
 "nbformat": 4,
 "nbformat_minor": 0
}
