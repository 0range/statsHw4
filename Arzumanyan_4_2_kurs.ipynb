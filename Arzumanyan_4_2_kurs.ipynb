{
 "cells": [
  {
   "cell_type": "code",
   "execution_count": 1,
   "metadata": {
    "collapsed": true
   },
   "outputs": [],
   "source": [
    "import numpy as np\n",
    "import matplotlib.pyplot as plt\n",
    "from time import time\n",
    "import pandas as pd\n",
    "%matplotlib inline"
   ]
  },
  {
   "cell_type": "markdown",
   "metadata": {},
   "source": [
    "##Problem 4"
   ]
  },
  {
   "cell_type": "code",
   "execution_count": 72,
   "metadata": {
    "collapsed": false
   },
   "outputs": [],
   "source": [
    "data = np.loadtxt('concrete.txt')\n",
    "\"\"\"Cement (component 1) -- quantitative -- kg in a m3 mixture -- Input Variable\n",
    "Blast Furnace Slag (component 2) -- quantitative -- kg in a m3 mixture -- Input Variable\n",
    "Fly Ash (component 3) -- quantitative -- kg in a m3 mixture -- Input Variable\n",
    "Water (component 4) -- quantitative -- kg in a m3 mixture -- Input Variable\n",
    "Superplasticizer (component 5) -- quantitative -- kg in a m3 mixture -- Input Variable\n",
    "Coarse Aggregate (component 6) -- quantitative -- kg in a m3 mixture -- Input Variable\n",
    "Fine Aggregate (component 7) -- quantitative -- kg in a m3 mixture -- Input Variable\n",
    "Age -- quantitative -- Day (1~365) -- Input Variable\n",
    "Concrete compressive strength -- quantitative -- MPa -- Output Variable \"\"\"\n",
    "np.random.shuffle(data)\n",
    "train_data = data[ : data.shape[0] * 3 / 4]\n",
    "test_data = data[data.shape[0] * 3 / 4 : ]"
   ]
  },
  {
   "cell_type": "code",
   "execution_count": 135,
   "metadata": {
    "collapsed": false
   },
   "outputs": [],
   "source": [
    "from pybrain.tools.shortcuts import buildNetwork\n",
    "from pybrain.datasets.supervised import SupervisedDataSet\n",
    "from pybrain.supervised.trainers import BackpropTrainer, RPropMinusTrainer\n",
    "from pybrain.structure import FeedForwardNetwork\n",
    "from pybrain.structure import LinearLayer, SigmoidLayer\n",
    "from pybrain.structure import FullConnection\n",
    "from pybrain.utilities           import percentError"
   ]
  },
  {
   "cell_type": "code",
   "execution_count": 158,
   "metadata": {
    "collapsed": false
   },
   "outputs": [
    {
     "name": "stdout",
     "output_type": "stream",
     "text": [
      "1 2 801.533604145 1.0719230175\n",
      "2 48 145.582995107 26.2202839851\n",
      "3 91 77.3838899923 48.2110280991\n",
      "4 191 96.9517978595 101.371469975\n",
      "5 47 145.582899744 25.137139082\n",
      "6 240 65.2900590843 129.667093992\n",
      "7 40 145.583878788 21.4507780075\n",
      "8 40 145.583214077 21.7010300159\n",
      "9 43 145.582903674 22.8773369789\n",
      "10 235 93.7445412109 125.880288124\n",
      "11 46 145.582858181 24.3933110237\n",
      "12 124 126.857167341 66.5000128746\n",
      "13 43 145.58189873 22.6850678921\n",
      "14 158 75.6987261446 83.8433568478\n",
      "15 222 53.0632491426 117.83903718\n",
      "16 36 145.583025542 19.1773078442\n",
      "17 393 65.7081012608 211.444782972\n",
      "18 385 73.2096306779 206.672538042\n",
      "19 113 85.9933628755 60.9863829613\n",
      "20 52 133.482700043 27.7266838551\n"
     ]
    }
   ],
   "source": [
    "eps = 0.0001\n",
    "p = 10\n",
    "ps = [1,2,3,4,5,6,7,8,9,10,11,12,13,14,15,16,17,18,19,20]\n",
    "train_errs = []\n",
    "test_errs = []\n",
    "\n",
    "ds = SupervisedDataSet(8, 1)\n",
    "for el in train_data:\n",
    "    ds.addSample(el[:8], np.array([el[8],]))\n",
    "test_ds = SupervisedDataSet(8, 1)\n",
    "for el in test_data:\n",
    "    test_ds.addSample(el[:8], np.array([el[8],]))\n",
    "\n",
    "thetime = time()\n",
    "for p in ps:\n",
    "    net = buildNetwork(8, p, 1, bias=False)\n",
    "\n",
    "    trainer = RPropMinusTrainer(net, dataset=ds, verbose=False)\n",
    "    err = trainer.train()\n",
    "    diff = eps + 1\n",
    "    while diff > eps:\n",
    "        newErr = trainer.train()\n",
    "        diff = np.abs(err - newErr)\n",
    "        err =  newErr\n",
    "        \n",
    "    print p, trainer.totalepochs, err, time() - thetime\n",
    "    thetime = time()\n",
    "    train_errs.append(np.mean(np.abs(net.activateOnDataset(ds) - ds['target'])))\n",
    "    test_errs.append(np.mean(np.abs(net.activateOnDataset(test_ds) - test_ds['target'])))"
   ]
  },
  {
   "cell_type": "code",
   "execution_count": 175,
   "metadata": {
    "collapsed": false
   },
   "outputs": [
    {
     "data": {
      "text/plain": [
       "<matplotlib.legend.Legend at 0x5afe1d0>"
      ]
     },
     "execution_count": 175,
     "metadata": {},
     "output_type": "execute_result"
    },
    {
     "data": {
      "image/png": "[encoded data removed]",
      "text/plain": [
       "<matplotlib.figure.Figure at 0x58c3750>"
      ]
     },
     "metadata": {},
     "output_type": "display_data"
    }
   ],
   "source": [
    "plt.figure(figsize=(10,6))\n",
    "plt.plot(train_errs, label='train', c='b')\n",
    "plt.plot(test_errs, label='test', c='g')\n",
    "#plt.ylim([7,20])\n",
    "plt.legend()"
   ]
  },
  {
   "cell_type": "code",
   "execution_count": 174,
   "metadata": {
    "collapsed": false
   },
   "outputs": [
    {
     "name": "stdout",
     "output_type": "stream",
     "text": [
      "14\n"
     ]
    }
   ],
   "source": [
    "pstar = np.argmin(test_errs)\n",
    "print pstar"
   ]
  },
  {
   "cell_type": "code",
   "execution_count": 182,
   "metadata": {
    "collapsed": false
   },
   "outputs": [
    {
     "name": "stdout",
     "output_type": "stream",
     "text": [
      "0 203 113.123198986\n",
      "1 230 237.046108007\n",
      "2 178 331.656867027\n",
      "3 40 353.057307005\n",
      "4 277 500.498523951\n",
      "5 270 645.163805008\n",
      "6 192 747.023926973\n",
      "7 79 789.074651957\n",
      "8 109 846.804157019\n",
      "9 42 869.173135042\n",
      "10 204 985.585272074\n",
      "11 41 1010.66431904\n",
      "12 145 1092.24553204\n",
      "13 311 1257.94727397\n",
      "14 674 1620.89717412\n",
      "15 41 1642.74578595\n",
      "16 289 1796.13409805\n",
      "17 54 1824.95174313\n",
      "18 121 1889.18098211\n",
      "19 43 1912.05605292\n"
     ]
    }
   ],
   "source": [
    "nets = []\n",
    "\n",
    "thetime = time()\n",
    "for i in xrange(20):\n",
    "    net = buildNetwork(8, pstar, 1, bias=False)\n",
    "\n",
    "    trainer = RPropMinusTrainer(net, dataset=ds, verbose=False)\n",
    "    err = trainer.train()\n",
    "    diff = eps + 1\n",
    "    while diff > eps:\n",
    "        newErr = trainer.train()\n",
    "        diff = np.abs(err - newErr)\n",
    "        err =  newErr\n",
    "    \n",
    "    print i, trainer.totalepochs, time() - thetime\n",
    "    nets.append((net, np.mean(np.abs(net.activateOnDataset(ds) - ds['target']))))"
   ]
  },
  {
   "cell_type": "code",
   "execution_count": 186,
   "metadata": {
    "collapsed": false
   },
   "outputs": [],
   "source": [
    "randomErrs = []\n",
    "for i in xrange(len(nets)):\n",
    "    res = np.zeros(test_data.shape, dtype=np.float64)\n",
    "    for j in xrange(i + 1):\n",
    "        res += nets[j][0].activateOnDataset(test_ds)\n",
    "    res /= (i+1.)\n",
    "    randomErrs.append(np.mean(np.abs(res - test_ds['target'])))"
   ]
  },
  {
   "cell_type": "code",
   "execution_count": 187,
   "metadata": {
    "collapsed": false
   },
   "outputs": [
    {
     "data": {
      "text/plain": [
       "[<matplotlib.lines.Line2D at 0x4ff2f10>]"
      ]
     },
     "execution_count": 187,
     "metadata": {},
     "output_type": "execute_result"
    },
    {
     "data": {
      "image/png": "[encoded data removed]",
      "text/plain": [
       "<matplotlib.figure.Figure at 0x58fcc50>"
      ]
     },
     "metadata": {},
     "output_type": "display_data"
    }
   ],
   "source": [
    "plt.plot(randomErrs, c='r')"
   ]
  },
  {
   "cell_type": "code",
   "execution_count": 191,
   "metadata": {
    "collapsed": true
   },
   "outputs": [],
   "source": [
    "netsSorted = sorted(nets, key = lambda x : x[1])\n",
    "sortedErrs = []\n",
    "for i in xrange(len(nets)):\n",
    "    res = np.zeros(test_data.shape, dtype=np.float64)\n",
    "    for j in xrange(i + 1):\n",
    "        res += netsSorted[j][0].activateOnDataset(test_ds)\n",
    "    res /= (i+1.)\n",
    "    sortedErrs.append(np.mean(np.abs(res - test_ds['target'])))"
   ]
  },
  {
   "cell_type": "code",
   "execution_count": 192,
   "metadata": {
    "collapsed": false
   },
   "outputs": [
    {
     "data": {
      "text/plain": [
       "[<matplotlib.lines.Line2D at 0x5d6fb10>]"
      ]
     },
     "execution_count": 192,
     "metadata": {},
     "output_type": "execute_result"
    },
    {
     "data": {
      "image/png": "[encoded data removed]",
      "text/plain": [
       "<matplotlib.figure.Figure at 0x5d36950>"
      ]
     },
     "metadata": {},
     "output_type": "display_data"
    }
   ],
   "source": [
    "plt.plot(sortedErrs, c='m')"
   ]
  },
  {
   "cell_type": "markdown",
   "metadata": {
    "collapsed": true
   },
   "source": [
    "##Problem 6"
   ]
  },
  {
   "cell_type": "code",
   "execution_count": 48,
   "metadata": {
    "collapsed": false
   },
   "outputs": [],
   "source": [
    "data = []\n",
    "with open('glass.dat', 'r') as inputfile:\n",
    "    for line in inputfile:\n",
    "        data.append(line.strip().split())"
   ]
  },
  {
   "cell_type": "code",
   "execution_count": 52,
   "metadata": {
    "collapsed": false
   },
   "outputs": [],
   "source": [
    "Rl = []\n",
    "for i in xrange(1, len(data)):\n",
    "    Rl.append(data[i][1])\n",
    "Rl = np.array(Rl, dtype=np.float64)"
   ]
  },
  {
   "cell_type": "code",
   "execution_count": 57,
   "metadata": {
    "collapsed": false
   },
   "outputs": [
    {
     "name": "stdout",
     "output_type": "stream",
     "text": [
      "-6.85 15.93 214\n"
     ]
    }
   ],
   "source": [
    "a = np.min(Rl)\n",
    "b = np.max(Rl)\n",
    "n = Rl.shape[0]\n",
    "print a,b,n"
   ]
  },
  {
   "cell_type": "code",
   "execution_count": 118,
   "metadata": {
    "collapsed": true
   },
   "outputs": [],
   "source": [
    "hs = [0.0000025, 0.000005, 0.00001, 0.0001, 0.0002, 0.0005, 0.001, 0.005, 0.01, 0.02, 0.05, 0.1, 0.2, 0.25, 0.5, 1, 2, 5, 10]"
   ]
  },
  {
   "cell_type": "code",
   "execution_count": 119,
   "metadata": {
    "collapsed": false
   },
   "outputs": [],
   "source": [
    "def Jh(h,n,a,b, Rl):\n",
    "    res = 2. / ((n-1) * h)\n",
    "    minus = 0\n",
    "    for j in xrange(int(np.ceil((b - a) / h))):\n",
    "        aj = a + j * (b -a)\n",
    "        bj = min(a + (j + 1) * (b-a), b)\n",
    "        cnt = 0\n",
    "        for el in Rl:\n",
    "            if el >= aj and el < bj:\n",
    "                cnt += 1\n",
    "        minus += (float(cnt) / n) ** 2\n",
    "    res -= minus * (n + 1) / (h * (n-1))\n",
    "    return res"
   ]
  },
  {
   "cell_type": "code",
   "execution_count": 120,
   "metadata": {
    "collapsed": true
   },
   "outputs": [],
   "source": [
    "def Kstar(x):\n",
    "    return (1./2)/np.sqrt(2 * np.pi) * np.exp(- x ** 2 / 8) - 2./np.sqrt(2 * np.pi) * np.exp(- x ** 2)"
   ]
  },
  {
   "cell_type": "code",
   "execution_count": 121,
   "metadata": {
    "collapsed": true
   },
   "outputs": [],
   "source": [
    "def Jk(h,n,a,b,Rl):\n",
    "    res = 2./ (n*h) * ((2 * np.pi) ** (-1./2))\n",
    "    for i in xrange(n):\n",
    "        for j in xrange(n):\n",
    "            res += Kstar((Rl[i] - Rl[j]) / h) / (n * n * h)\n",
    "    return res"
   ]
  },
  {
   "cell_type": "code",
   "execution_count": 122,
   "metadata": {
    "collapsed": false
   },
   "outputs": [
    {
     "name": "stdout",
     "output_type": "stream",
     "text": [
      "628.649574995\n"
     ]
    }
   ],
   "source": [
    "Jhs = []\n",
    "Jks = []\n",
    "thetime = time()\n",
    "for h in hs:\n",
    "    Jhs.append(Jh(h,n,a,b,Rl))\n",
    "    Jks.append(Jk(h,n,a,b,Rl))\n",
    "print time() - thetime"
   ]
  },
  {
   "cell_type": "code",
   "execution_count": 123,
   "metadata": {
    "collapsed": false
   },
   "outputs": [
    {
     "data": {
      "text/plain": [
       "[-396235.3970681163,\n",
       " -198117.69853405815,\n",
       " -99058.84926702907,\n",
       " -9905.884926702909,\n",
       " -4952.9424633514545,\n",
       " -1981.176985340582,\n",
       " -990.588492670291,\n",
       " -198.11769853405818,\n",
       " -99.05884926702909,\n",
       " -49.529424633514544,\n",
       " -19.811769853405817,\n",
       " -9.905884926702909,\n",
       " -4.952942463351454,\n",
       " -3.9623539706811637,\n",
       " -1.9811769853405818,\n",
       " -0.9905884926702909,\n",
       " -0.49529424633514546,\n",
       " -0.1981176985340582,\n",
       " -0.0990588492670291]"
      ]
     },
     "execution_count": 123,
     "metadata": {},
     "output_type": "execute_result"
    }
   ],
   "source": [
    "Jhs"
   ]
  },
  {
   "cell_type": "code",
   "execution_count": 124,
   "metadata": {
    "collapsed": false
   },
   "outputs": [
    {
     "data": {
      "text/plain": [
       "[-34.845163804816885,\n",
       " -17.422581902408442,\n",
       " -8.7112909512042211,\n",
       " -0.87112909512065295,\n",
       " -0.43556454756032648,\n",
       " -0.17422581902414824,\n",
       " -0.087110669498818349,\n",
       " 0.064187279083264132,\n",
       " 0.019496022327218931,\n",
       " -0.020675143455228119,\n",
       " -0.047531224849310438,\n",
       " -0.056179540280108853,\n",
       " -0.065053459108314809,\n",
       " -0.067305574775489194,\n",
       " -0.07525926751701098,\n",
       " -0.088040576123684169,\n",
       " -0.092052895493803619,\n",
       " -0.074148892760848517,\n",
       " -0.049718135546113526]"
      ]
     },
     "execution_count": 124,
     "metadata": {},
     "output_type": "execute_result"
    }
   ],
   "source": [
    "Jks"
   ]
  },
  {
   "cell_type": "code",
   "execution_count": 117,
   "metadata": {
    "collapsed": false
   },
   "outputs": [
    {
     "name": "stdout",
     "output_type": "stream",
     "text": [
      "0 0\n"
     ]
    }
   ],
   "source": [
    "print np.argmin(np.array(Jhs)), np.argmin(np.array(Jks))"
   ]
  },
  {
   "cell_type": "code",
   "execution_count": 125,
   "metadata": {
    "collapsed": false
   },
   "outputs": [
    {
     "name": "stdout",
     "output_type": "stream",
     "text": [
      "2.5e-06 9112000\n"
     ]
    }
   ],
   "source": [
    "h = hs[0]\n",
    "m = int(np.ceil((b - a) / h))\n",
    "print h, m"
   ]
  },
  {
   "cell_type": "code",
   "execution_count": null,
   "metadata": {
    "collapsed": true
   },
   "outputs": [],
   "source": []
  }
 ],
 "metadata": {
  "kernelspec": {
   "display_name": "Python 2",
   "language": "python",
   "name": "python2"
  },
  "language_info": {
   "codemirror_mode": {
    "name": "ipython",
    "version": 2
   },
   "file_extension": ".py",
   "mimetype": "text/x-python",
   "name": "python",
   "nbconvert_exporter": "python",
   "pygments_lexer": "ipython2",
   "version": "2.7.3"
  }
 },
 "nbformat": 4,
 "nbformat_minor": 0
}
